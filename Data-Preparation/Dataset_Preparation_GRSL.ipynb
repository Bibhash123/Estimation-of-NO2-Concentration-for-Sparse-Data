{
  "nbformat": 4,
  "nbformat_minor": 0,
  "metadata": {
    "colab": {
      "name": "Dataset Preparation GRSL.ipynb",
      "provenance": [],
      "collapsed_sections": [
        "Tsjr74mgWTfT"
      ],
      "authorship_tag": "ABX9TyN9z+ZM8HyJmAsdy/0dpBrd",
      "include_colab_link": true
    },
    "kernelspec": {
      "name": "python3",
      "display_name": "Python 3"
    },
    "language_info": {
      "name": "python"
    }
  },
  "cells": [
    {
      "cell_type": "markdown",
      "metadata": {
        "id": "view-in-github",
        "colab_type": "text"
      },
      "source": [
        "<a href=\"https://colab.research.google.com/github/Bibhash123/Estimation-of-NO2-Concentration-for-Sparse-Data/blob/main/Data-Preparation/Dataset_Preparation_GRSL.ipynb\" target=\"_parent\"><img src=\"https://colab.research.google.com/assets/colab-badge.svg\" alt=\"Open In Colab\"/></a>"
      ]
    },
    {
      "cell_type": "markdown",
      "metadata": {
        "id": "Tsjr74mgWTfT"
      },
      "source": [
        "# Data Creation Pipeline"
      ]
    },
    {
      "cell_type": "code",
      "metadata": {
        "id": "Ewcsanzn2qkq"
      },
      "source": [
        "from IPython.display import clear_output\n",
        "!pip uninstall -y shapely\n",
        "!pip uninstall -y cartopy\n",
        "!pip install shapely cartopy --no-binary shapely --no-binary cartopy\n",
        "clear_output(wait=False)"
      ],
      "execution_count": null,
      "outputs": []
    },
    {
      "cell_type": "code",
      "metadata": {
        "id": "1j3Y5PD38ZEx"
      },
      "source": [
        "import json\n",
        "import pandas as pd\n",
        "import numpy as np\n",
        "import matplotlib.pyplot as plt\n",
        "import os\n",
        "from tqdm.notebook import tqdm"
      ],
      "execution_count": null,
      "outputs": []
    },
    {
      "cell_type": "code",
      "metadata": {
        "colab": {
          "base_uri": "https://localhost:8080/"
        },
        "id": "TjU_C9FNOCLa",
        "outputId": "77f6f2de-420d-4cc5-914b-57465b7c118e"
      },
      "source": [
        "!git clone https://github.com/HSG-AIML/NO2-dataset.git\n",
        "!cp \"/content/NO2-dataset/no2_dataset.tar.gz\" \"/content/\"\n",
        "!tar -xvf \"/content/no2_dataset.tar.gz\" -C \"/content/\"\n",
        "!rm -r \"NO2-dataset\"\n",
        "!rm \"/content/no2_dataset.tar.gz\""
      ],
      "execution_count": null,
      "outputs": [
        {
          "output_type": "stream",
          "name": "stdout",
          "text": [
            "Cloning into 'NO2-dataset'...\n",
            "remote: Enumerating objects: 42, done.\u001b[K\n",
            "remote: Counting objects: 100% (37/37), done.\u001b[K\n",
            "remote: Compressing objects: 100% (27/27), done.\u001b[K\n",
            "remote: Total 42 (delta 17), reused 25 (delta 8), pack-reused 5\u001b[K\n",
            "Unpacking objects: 100% (42/42), done.\n",
            "no2_dataset.csv\n"
          ]
        }
      ]
    },
    {
      "cell_type": "code",
      "metadata": {
        "id": "X0RPhTzpPaxC",
        "colab": {
          "base_uri": "https://localhost:8080/",
          "height": 398
        },
        "outputId": "7acd425d-f97b-427b-9095-0beb53a25053"
      },
      "source": [
        "no2_data = pd.read_csv(\"no2_dataset.csv\")\n",
        "no2_data.head()"
      ],
      "execution_count": null,
      "outputs": [
        {
          "output_type": "execute_result",
          "data": {
            "text/html": [
              "<div>\n",
              "<style scoped>\n",
              "    .dataframe tbody tr th:only-of-type {\n",
              "        vertical-align: middle;\n",
              "    }\n",
              "\n",
              "    .dataframe tbody tr th {\n",
              "        vertical-align: top;\n",
              "    }\n",
              "\n",
              "    .dataframe thead th {\n",
              "        text-align: right;\n",
              "    }\n",
              "</style>\n",
              "<table border=\"1\" class=\"dataframe\">\n",
              "  <thead>\n",
              "    <tr style=\"text-align: right;\">\n",
              "      <th></th>\n",
              "      <th>AirQualityStation</th>\n",
              "      <th>SatelliteDatetime</th>\n",
              "      <th>TroposphericNO2ColumnNumberDensity</th>\n",
              "      <th>SatelliteLongitude</th>\n",
              "      <th>SatelliteLatitude</th>\n",
              "      <th>Source</th>\n",
              "      <th>geometry</th>\n",
              "      <th>SurfaceConcentration</th>\n",
              "      <th>SurfaceDatetime</th>\n",
              "      <th>Temperature</th>\n",
              "      <th>Precipitation</th>\n",
              "      <th>Countrycode</th>\n",
              "      <th>Altitude</th>\n",
              "      <th>AreaType</th>\n",
              "      <th>StationType</th>\n",
              "      <th>Weekday</th>\n",
              "      <th>Hour</th>\n",
              "      <th>Month</th>\n",
              "      <th>SurfaceLongitude</th>\n",
              "      <th>SurfaceLatitude</th>\n",
              "      <th>PopulationDensity</th>\n",
              "      <th>SensingTimeDiff</th>\n",
              "      <th>Lockdown</th>\n",
              "    </tr>\n",
              "  </thead>\n",
              "  <tbody>\n",
              "    <tr>\n",
              "      <th>0</th>\n",
              "      <td>STA.DE_DEBW087</td>\n",
              "      <td>2018-10-17 11:35:23.253999949</td>\n",
              "      <td>0.000057</td>\n",
              "      <td>9.25</td>\n",
              "      <td>48.35</td>\n",
              "      <td>S5P_OFFL_L2__NO2____20181017T103438_20181017T1...</td>\n",
              "      <td>POINT (9.250000000000002 48.35)</td>\n",
              "      <td>3.7</td>\n",
              "      <td>2018-10-17 12:00:00+01:00</td>\n",
              "      <td>11.620000</td>\n",
              "      <td>0.0</td>\n",
              "      <td>DE</td>\n",
              "      <td>798.0</td>\n",
              "      <td>rural-regional</td>\n",
              "      <td>background</td>\n",
              "      <td>2</td>\n",
              "      <td>11</td>\n",
              "      <td>10</td>\n",
              "      <td>9.207639</td>\n",
              "      <td>48.345778</td>\n",
              "      <td>262.1</td>\n",
              "      <td>2123</td>\n",
              "      <td>None</td>\n",
              "    </tr>\n",
              "    <tr>\n",
              "      <th>1</th>\n",
              "      <td>STA.DE_DEBW087</td>\n",
              "      <td>2018-10-17 13:16:52.555000067</td>\n",
              "      <td>0.000105</td>\n",
              "      <td>9.25</td>\n",
              "      <td>48.35</td>\n",
              "      <td>S5P_OFFL_L2__NO2____20181017T121608_20181017T1...</td>\n",
              "      <td>POINT (9.250000000000002 48.35)</td>\n",
              "      <td>3.5</td>\n",
              "      <td>2018-10-17 13:00:00+01:00</td>\n",
              "      <td>11.520000</td>\n",
              "      <td>0.0</td>\n",
              "      <td>DE</td>\n",
              "      <td>798.0</td>\n",
              "      <td>rural-regional</td>\n",
              "      <td>background</td>\n",
              "      <td>2</td>\n",
              "      <td>13</td>\n",
              "      <td>10</td>\n",
              "      <td>9.207639</td>\n",
              "      <td>48.345778</td>\n",
              "      <td>262.1</td>\n",
              "      <td>4612</td>\n",
              "      <td>None</td>\n",
              "    </tr>\n",
              "    <tr>\n",
              "      <th>2</th>\n",
              "      <td>STA.DE_DEBW087</td>\n",
              "      <td>2018-10-18 11:16:21.141000032</td>\n",
              "      <td>0.000085</td>\n",
              "      <td>9.25</td>\n",
              "      <td>48.35</td>\n",
              "      <td>S5P_OFFL_L2__NO2____20181018T101530_20181018T1...</td>\n",
              "      <td>POINT (9.250000000000002 48.35)</td>\n",
              "      <td>6.5</td>\n",
              "      <td>2018-10-18 11:00:00+01:00</td>\n",
              "      <td>11.520000</td>\n",
              "      <td>0.0</td>\n",
              "      <td>DE</td>\n",
              "      <td>798.0</td>\n",
              "      <td>rural-regional</td>\n",
              "      <td>background</td>\n",
              "      <td>3</td>\n",
              "      <td>11</td>\n",
              "      <td>10</td>\n",
              "      <td>9.207639</td>\n",
              "      <td>48.345778</td>\n",
              "      <td>262.1</td>\n",
              "      <td>4581</td>\n",
              "      <td>None</td>\n",
              "    </tr>\n",
              "    <tr>\n",
              "      <th>3</th>\n",
              "      <td>STA.DE_DEBW087</td>\n",
              "      <td>2018-10-18 12:57:50.681999922</td>\n",
              "      <td>0.000075</td>\n",
              "      <td>9.25</td>\n",
              "      <td>48.35</td>\n",
              "      <td>S5P_OFFL_L2__NO2____20181018T115659_20181018T1...</td>\n",
              "      <td>POINT (9.250000000000002 48.35)</td>\n",
              "      <td>3.7</td>\n",
              "      <td>2018-10-18 13:00:00+01:00</td>\n",
              "      <td>9.139999</td>\n",
              "      <td>0.0</td>\n",
              "      <td>DE</td>\n",
              "      <td>798.0</td>\n",
              "      <td>rural-regional</td>\n",
              "      <td>background</td>\n",
              "      <td>3</td>\n",
              "      <td>12</td>\n",
              "      <td>10</td>\n",
              "      <td>9.207639</td>\n",
              "      <td>48.345778</td>\n",
              "      <td>262.1</td>\n",
              "      <td>3470</td>\n",
              "      <td>None</td>\n",
              "    </tr>\n",
              "    <tr>\n",
              "      <th>4</th>\n",
              "      <td>STA.DE_DEBW087</td>\n",
              "      <td>2018-10-19 10:57:21.230000019</td>\n",
              "      <td>0.000062</td>\n",
              "      <td>9.25</td>\n",
              "      <td>48.35</td>\n",
              "      <td>S5P_OFFL_L2__NO2____20181019T095621_20181019T1...</td>\n",
              "      <td>POINT (9.250000000000002 48.35)</td>\n",
              "      <td>8.0</td>\n",
              "      <td>2018-10-19 11:00:00+01:00</td>\n",
              "      <td>9.139999</td>\n",
              "      <td>0.0</td>\n",
              "      <td>DE</td>\n",
              "      <td>798.0</td>\n",
              "      <td>rural-regional</td>\n",
              "      <td>background</td>\n",
              "      <td>4</td>\n",
              "      <td>10</td>\n",
              "      <td>10</td>\n",
              "      <td>9.207639</td>\n",
              "      <td>48.345778</td>\n",
              "      <td>262.1</td>\n",
              "      <td>3441</td>\n",
              "      <td>None</td>\n",
              "    </tr>\n",
              "  </tbody>\n",
              "</table>\n",
              "</div>"
            ],
            "text/plain": [
              "  AirQualityStation              SatelliteDatetime  ...  SensingTimeDiff  Lockdown\n",
              "0    STA.DE_DEBW087  2018-10-17 11:35:23.253999949  ...             2123      None\n",
              "1    STA.DE_DEBW087  2018-10-17 13:16:52.555000067  ...             4612      None\n",
              "2    STA.DE_DEBW087  2018-10-18 11:16:21.141000032  ...             4581      None\n",
              "3    STA.DE_DEBW087  2018-10-18 12:57:50.681999922  ...             3470      None\n",
              "4    STA.DE_DEBW087  2018-10-19 10:57:21.230000019  ...             3441      None\n",
              "\n",
              "[5 rows x 23 columns]"
            ]
          },
          "metadata": {},
          "execution_count": 4
        }
      ]
    },
    {
      "cell_type": "code",
      "metadata": {
        "colab": {
          "base_uri": "https://localhost:8080/"
        },
        "id": "V4CltBQTUdx1",
        "outputId": "6df286d7-1bf7-4fd9-8db1-cfea0ee96ef5"
      },
      "source": [
        "min(no2_data[\"SatelliteDatetime\"]),max(no2_data[\"SatelliteDatetime\"])"
      ],
      "execution_count": null,
      "outputs": [
        {
          "output_type": "execute_result",
          "data": {
            "text/plain": [
              "('2018-10-17 11:35:23.253999949', '2020-11-30 11:03:06.071000099')"
            ]
          },
          "metadata": {},
          "execution_count": 5
        }
      ]
    },
    {
      "cell_type": "code",
      "metadata": {
        "colab": {
          "base_uri": "https://localhost:8080/"
        },
        "id": "zbWqZeiZUiOD",
        "outputId": "3e7e83b0-d1c6-4e81-f577-783825be05f8"
      },
      "source": [
        "min(no2_data[\"SurfaceDatetime\"]),max(no2_data[\"SurfaceDatetime\"])"
      ],
      "execution_count": null,
      "outputs": [
        {
          "output_type": "execute_result",
          "data": {
            "text/plain": [
              "('2018-10-17 11:00:00+01:00', '2020-11-30 14:00:00+01:00')"
            ]
          },
          "metadata": {},
          "execution_count": 6
        }
      ]
    },
    {
      "cell_type": "code",
      "metadata": {
        "colab": {
          "base_uri": "https://localhost:8080/"
        },
        "id": "HAfKcsyPIB2L",
        "outputId": "74546a0c-11de-4a7d-f571-e980a9e04df7"
      },
      "source": [
        "print(min(no2_data[\"SatelliteLongitude\"]),min(no2_data[\"SatelliteLatitude\"]))\n",
        "print(max(no2_data[\"SatelliteLongitude\"]),max(no2_data[\"SatelliteLatitude\"]))"
      ],
      "execution_count": null,
      "outputs": [
        {
          "output_type": "stream",
          "name": "stdout",
          "text": [
            "-9.45 35.05\n",
            "39.65000000000001 69.65\n"
          ]
        }
      ]
    },
    {
      "cell_type": "code",
      "metadata": {
        "id": "wkt-LGapd67L"
      },
      "source": [
        "def haversine(lo,la,lon,lat):\n",
        "  R=6371000#radius of the earth in meters\n",
        "  lat = float(lat)\n",
        "  lon = float(lon)\n",
        "  lat1=np.radians(la)\n",
        "  lat2=np.radians(lat)\n",
        "  delta_lat=np.radians(lat-la)\n",
        "  delta_lon=np.radians(lon-lo)\n",
        "  a=(np.sin(delta_lat/2))*(np.sin(delta_lat/2))+(np.cos(lat1))*(np.cos(lat2))*(np.sin(delta_lon/2))*(np.sin(delta_lon/2))\n",
        "  c=2*np.arcsin(np.sqrt(a))\n",
        "  d=R*c\n",
        "  return d\n",
        "\n",
        "def getNearest(lon,lat,df):\n",
        "  j = -1\n",
        "  d = 1e15\n",
        "  for i in range(df.shape[0]):\n",
        "    distance = haversine(lon,lat,df[\"SatelliteLongitude\"].iloc[i],df[\"SatelliteLatitude\"].iloc[i])\n",
        "    if distance<d:\n",
        "      d = distance\n",
        "      j = i\n",
        "  return j,d"
      ],
      "execution_count": null,
      "outputs": []
    },
    {
      "cell_type": "code",
      "metadata": {
        "id": "nv-VL81EOSKs"
      },
      "source": [
        "def getPatches(sat_inp, grnd_inp, output_shape):\n",
        "  for i in range(output_shape[0],inp.shape[0]+output_shape[0],output_shape[0]):\n",
        "    for j in range(output_shape[1],inp.shape[1]+output_shape[1],output_shape[1]):\n",
        "      yield sat_inp[i-output_shape[0]:i,j-output_shape[1]:j],grnd_inp[i-output_shape[0]:i,j-output_shape[1]:j]\n",
        "\n",
        "def prepareData(df,resolution = 0.05,savedir = \"/content/Data/\",output_shape = (49,67),patch_no = (1,1), num_days = 100):\n",
        "  if os.path.isdir(savedir):\n",
        "    !rm -r $savedir\n",
        "  os.mkdir(savedir)\n",
        "  os.mkdir(os.path.join(savedir,\"Satellite\"))\n",
        "  os.mkdir(os.path.join(savedir,\"Ground\"))\n",
        "\n",
        "  min_lat,max_lat = min(df[\"SatelliteLatitude\"]),max(df[\"SatelliteLatitude\"])\n",
        "  min_lon,max_lon = min(df[\"SatelliteLongitude\"]),max(df[\"SatelliteLongitude\"])\n",
        "  cols,rows = (int((max_lon-min_lon)//resolution), int((max_lat-min_lat)//resolution))\n",
        "  df[\"SatelliteDatetime\"] = df[\"SatelliteDatetime\"].apply(lambda x: x.split(\" \")[0])\n",
        "  df.sort_values(by=\"SatelliteDatetime\",inplace=True)\n",
        "\n",
        "  files = pd.DataFrame(columns=[\"Date\",\"Sat_file\",\"Ground_file\"])\n",
        "  f_invtry = []\n",
        "  \n",
        "  for date in tqdm(sorted(df[\"SatelliteDatetime\"].unique()[:num_days]),\"Creating Dataset: \"):\n",
        "    one_date_df = df[df[\"SatelliteDatetime\"]==date]\n",
        "    aggregate_df = one_date_df.groupby(\"AirQualityStation\")[[\"SatelliteLatitude\",\"SatelliteLongitude\",\"SurfaceLongitude\",\n",
        "                                                             \"SurfaceLatitude\",\"SurfaceConcentration\",\n",
        "                                                             \"TroposphericNO2ColumnNumberDensity\"]].mean().reset_index()\n",
        "    fname = f\"{date}.npy\"\n",
        "    x,y = output_shape\n",
        "\n",
        "    all_matrix_sat = np.zeros(output_shape)\n",
        "    all_matrix_grnd = np.zeros(output_shape)\n",
        "    n_patch = 14*(patch_no[0]-1) + patch_no[1]\n",
        "\n",
        "    latitudes = list(np.linspace(min_lat,max_lat+resolution,rows))[(patch_no[0]-1)*x:patch_no[0]*x]\n",
        "    longitudes = list(np.linspace(min_lon,max_lon+resolution,cols))[(patch_no[1]-1)*y:patch_no[1]*y]\n",
        "    for i,lat in enumerate(tqdm(latitudes,leave=False)):\n",
        "      for j,lon in enumerate(longitudes):\n",
        "        index,dist = getNearest(lon,lat,aggregate_df)\n",
        "        all_matrix_sat[i,j] = aggregate_df[\"TroposphericNO2ColumnNumberDensity\"].iloc[index]\n",
        "        all_matrix_grnd[i,j] = aggregate_df[\"SurfaceConcentration\"].iloc[index]\n",
        "    \n",
        "    np.save(os.path.join(savedir,\"Satellite\",f\"sat_{n_patch}_{fname}\"),all_matrix_sat)\n",
        "    np.save(os.path.join(savedir,\"Ground\",f\"grnd_{n_patch}_{fname}\"),all_matrix_grnd)\n",
        "    f_invtry.append([date,f\"sat_{n_patch}_{fname}\",f\"grnd_{n_patch}_{fname}\"])\n",
        "    n_patch += 1\n",
        "\n",
        "  files = files.append(pd.DataFrame(np.array(f_invtry),columns=[\"Date\",\"Sat_file\",\"Ground_file\"]),ignore_index=True)\n",
        "  return files"
      ],
      "execution_count": null,
      "outputs": []
    },
    {
      "cell_type": "code",
      "metadata": {
        "id": "eNwPXwQNJ7IP"
      },
      "source": [
        "files = prepareData(no2_data,resolution = 0.05,savedir = \"/content/Data/\",output_shape = (49,67),patch_no = (1,1))\n",
        "files.to_csv(\"files.csv\",index = False)"
      ],
      "execution_count": null,
      "outputs": []
    },
    {
      "cell_type": "markdown",
      "metadata": {
        "id": "QF-5iXNLWYXc"
      },
      "source": [
        "# Data Merging"
      ]
    },
    {
      "cell_type": "code",
      "metadata": {
        "id": "4elpbAfDXNeE"
      },
      "source": [
        "# done till patch no 38 i.e (3,10)\n",
        "from IPython.display import clear_output\n",
        "import pandas as pd\n",
        "import os\n",
        "from google.colab import files\n",
        "_ = files.upload()\n",
        "\n",
        "if os.path.isdir(\"/content/Dataset/\"):\n",
        "  !rm -r \"/content/Dataset/\"\n",
        "os.mkdir(\"/content/Dataset/\")\n",
        "\n",
        "!pip install -q kaggle\n",
        "!mkdir ~/.kaggle/\n",
        "!cp kaggle.json ~/.kaggle/kaggle.json\n",
        "!chmod 600 ~/.kaggle/kaggle.json\n",
        "\n",
        "!kaggle datasets download -d Bibhash123/grsldata\n",
        "!unzip -q grsldata.zip -d \"/content/Dataset/\"\n",
        "\n",
        "files = pd.read_csv(\"/content/Dataset/files.csv\")\n",
        "!rm -r grsldata.zip\n",
        "for i in range(1,5,1):\n",
        "  !kaggle datasets download -d Bibhash123/grsl-$i\n",
        "  fname = f\"grsl-{i}.zip\"\n",
        "  !unzip -q $fname -d /content/\n",
        "  temp = pd.read_csv(\"/content/files.csv\")\n",
        "  files = files.append(temp,ignore_index = True)\n",
        "  !rm -r $fname\n",
        "  !cp -r \"/content/Data/Ground/.\" -d \"/content/Dataset/Ground\"\n",
        "  !cp -r \"/content/Data/Satellite/.\" -d \"/content/Dataset/Satellite\"\n",
        "  !rm -r \"/content/files.csv\"\n",
        "  !rm -r \"/content/no2_dataset.csv\"\n",
        "  !rm -r \"/content/Data\"\n",
        "files.to_csv(\"/content/Dataset/files.csv\",index=False)\n",
        "clear_output(wait=False)"
      ],
      "execution_count": null,
      "outputs": []
    },
    {
      "cell_type": "code",
      "metadata": {
        "colab": {
          "base_uri": "https://localhost:8080/"
        },
        "id": "VO-JpBQEjZ3p",
        "outputId": "73d89314-8ec1-4a52-aeb0-a1912144f177"
      },
      "source": [
        "!kaggle datasets init -p \"/content/Dataset\"\n",
        "_  = input(\"Edit metadata file and press any key to continue\")\n",
        "!kaggle datasets version -p \"/content/Dataset\" --dir-mode tar -m \"initial release\""
      ],
      "execution_count": null,
      "outputs": [
        {
          "output_type": "stream",
          "name": "stdout",
          "text": [
            "Data package template written to: /content/Dataset/dataset-metadata.json\n",
            "Edit metadata file and press any key to continuec\n",
            "Starting upload for file files.csv\n",
            "Warning: Looks like you're using an outdated API Version, please consider updating (server 1.5.12 / client 1.5.4)\n",
            "100% 205k/205k [00:02<00:00, 70.7kB/s]\n",
            "Upload successful: files.csv (205KB)\n",
            "Starting upload for file Ground.tar\n",
            "100% 95.5M/95.5M [00:03<00:00, 25.9MB/s]\n",
            "Upload successful: Ground.tar (95MB)\n",
            "Starting upload for file Satellite.tar\n",
            "100% 95.5M/95.5M [00:05<00:00, 19.9MB/s]\n",
            "Upload successful: Satellite.tar (95MB)\n",
            "Dataset version is being created. Please check progress at https://www.kaggle.com/bibhash123/grsldata\n"
          ]
        }
      ]
    },
    {
      "cell_type": "code",
      "metadata": {
        "id": "vZ6dT05c5Sp_"
      },
      "source": [
        "from google.colab import files\n",
        "_ = files.upload()\n",
        "!pip install -q kaggle\n",
        "!mkdir ~/.kaggle/\n",
        "!cp kaggle.json ~/.kaggle/kaggle.json\n",
        "!chmod 600 ~/.kaggle/kaggle.json\n",
        "\n",
        "!kaggle datasets download -d Bibhash123/grsldata\n",
        "!unzip -q grsldata.zip -d \"/content/Dataset/\"\n",
        "!rm -r grsldata.zip\n"
      ],
      "execution_count": null,
      "outputs": []
    },
    {
      "cell_type": "code",
      "metadata": {
        "id": "s1f-CR4h78tG"
      },
      "source": [
        "import pandas as pd\n",
        "import numpy as np\n",
        "\n",
        "files = pd.read_csv(\"/content/Dataset/files.csv\")"
      ],
      "execution_count": null,
      "outputs": []
    },
    {
      "cell_type": "code",
      "metadata": {
        "id": "uYVlQvF28Ndl"
      },
      "source": [
        "files[\"patch_no\"] = files[\"Sat_file\"].apply(lambda x: x.split(\"_\")[1])"
      ],
      "execution_count": null,
      "outputs": []
    },
    {
      "cell_type": "code",
      "metadata": {
        "id": "blxq5frP8rBQ"
      },
      "source": [
        "files[\"patch_no\"] = files[\"patch_no\"].astype(int)"
      ],
      "execution_count": null,
      "outputs": []
    },
    {
      "cell_type": "code",
      "metadata": {
        "colab": {
          "base_uri": "https://localhost:8080/"
        },
        "id": "5JuErTni8OVT",
        "outputId": "67aab50f-a8d1-4474-9eca-20ebbf34690b"
      },
      "source": [
        "files.drop_duplicates().shape"
      ],
      "execution_count": null,
      "outputs": [
        {
          "output_type": "execute_result",
          "data": {
            "text/plain": [
              "(3690, 4)"
            ]
          },
          "metadata": {},
          "execution_count": 17
        }
      ]
    },
    {
      "cell_type": "code",
      "metadata": {
        "id": "YKfPv6DI-5BK"
      },
      "source": [
        "files.drop_duplicates(inplace=True)"
      ],
      "execution_count": null,
      "outputs": []
    },
    {
      "cell_type": "code",
      "metadata": {
        "id": "zGS-WdX_9Rbe"
      },
      "source": [
        "!kaggle datasets download -d \"bibhash123/grsl-5\"\n",
        "!unzip grsl-5.zip -d \"/content/temp\"\n",
        "!rm -r grsl-5.zip\n",
        "temp = pd.read_csv(\"/content/temp/files.csv\")\n",
        "files = files.append(temp,ignore_index = True)"
      ],
      "execution_count": null,
      "outputs": []
    },
    {
      "cell_type": "code",
      "metadata": {
        "colab": {
          "base_uri": "https://localhost:8080/",
          "height": 422
        },
        "id": "Gon7scXc-sQM",
        "outputId": "515f0ce9-ac5c-491d-f805-b9cc1c589083"
      },
      "source": [
        "files"
      ],
      "execution_count": null,
      "outputs": [
        {
          "output_type": "execute_result",
          "data": {
            "text/html": [
              "<div>\n",
              "<style scoped>\n",
              "    .dataframe tbody tr th:only-of-type {\n",
              "        vertical-align: middle;\n",
              "    }\n",
              "\n",
              "    .dataframe tbody tr th {\n",
              "        vertical-align: top;\n",
              "    }\n",
              "\n",
              "    .dataframe thead th {\n",
              "        text-align: right;\n",
              "    }\n",
              "</style>\n",
              "<table border=\"1\" class=\"dataframe\">\n",
              "  <thead>\n",
              "    <tr style=\"text-align: right;\">\n",
              "      <th></th>\n",
              "      <th>Date</th>\n",
              "      <th>Sat_file</th>\n",
              "      <th>Ground_file</th>\n",
              "    </tr>\n",
              "  </thead>\n",
              "  <tbody>\n",
              "    <tr>\n",
              "      <th>0</th>\n",
              "      <td>2018-10-17</td>\n",
              "      <td>sat_1_2018-10-17.npy</td>\n",
              "      <td>grnd_1_2018-10-17.npy</td>\n",
              "    </tr>\n",
              "    <tr>\n",
              "      <th>1</th>\n",
              "      <td>2018-10-18</td>\n",
              "      <td>sat_1_2018-10-18.npy</td>\n",
              "      <td>grnd_1_2018-10-18.npy</td>\n",
              "    </tr>\n",
              "    <tr>\n",
              "      <th>2</th>\n",
              "      <td>2018-10-19</td>\n",
              "      <td>sat_1_2018-10-19.npy</td>\n",
              "      <td>grnd_1_2018-10-19.npy</td>\n",
              "    </tr>\n",
              "    <tr>\n",
              "      <th>3</th>\n",
              "      <td>2018-10-20</td>\n",
              "      <td>sat_1_2018-10-20.npy</td>\n",
              "      <td>grnd_1_2018-10-20.npy</td>\n",
              "    </tr>\n",
              "    <tr>\n",
              "      <th>4</th>\n",
              "      <td>2018-10-21</td>\n",
              "      <td>sat_1_2018-10-21.npy</td>\n",
              "      <td>grnd_1_2018-10-21.npy</td>\n",
              "    </tr>\n",
              "    <tr>\n",
              "      <th>...</th>\n",
              "      <td>...</td>\n",
              "      <td>...</td>\n",
              "      <td>...</td>\n",
              "    </tr>\n",
              "    <tr>\n",
              "      <th>3775</th>\n",
              "      <td>2019-01-10</td>\n",
              "      <td>sat_21_2019-01-10.npy</td>\n",
              "      <td>grnd_21_2019-01-10.npy</td>\n",
              "    </tr>\n",
              "    <tr>\n",
              "      <th>3776</th>\n",
              "      <td>2019-01-11</td>\n",
              "      <td>sat_21_2019-01-11.npy</td>\n",
              "      <td>grnd_21_2019-01-11.npy</td>\n",
              "    </tr>\n",
              "    <tr>\n",
              "      <th>3777</th>\n",
              "      <td>2019-01-12</td>\n",
              "      <td>sat_21_2019-01-12.npy</td>\n",
              "      <td>grnd_21_2019-01-12.npy</td>\n",
              "    </tr>\n",
              "    <tr>\n",
              "      <th>3778</th>\n",
              "      <td>2019-01-13</td>\n",
              "      <td>sat_21_2019-01-13.npy</td>\n",
              "      <td>grnd_21_2019-01-13.npy</td>\n",
              "    </tr>\n",
              "    <tr>\n",
              "      <th>3779</th>\n",
              "      <td>2019-01-14</td>\n",
              "      <td>sat_21_2019-01-14.npy</td>\n",
              "      <td>grnd_21_2019-01-14.npy</td>\n",
              "    </tr>\n",
              "  </tbody>\n",
              "</table>\n",
              "<p>3780 rows × 3 columns</p>\n",
              "</div>"
            ],
            "text/plain": [
              "            Date               Sat_file             Ground_file\n",
              "0     2018-10-17   sat_1_2018-10-17.npy   grnd_1_2018-10-17.npy\n",
              "1     2018-10-18   sat_1_2018-10-18.npy   grnd_1_2018-10-18.npy\n",
              "2     2018-10-19   sat_1_2018-10-19.npy   grnd_1_2018-10-19.npy\n",
              "3     2018-10-20   sat_1_2018-10-20.npy   grnd_1_2018-10-20.npy\n",
              "4     2018-10-21   sat_1_2018-10-21.npy   grnd_1_2018-10-21.npy\n",
              "...          ...                    ...                     ...\n",
              "3775  2019-01-10  sat_21_2019-01-10.npy  grnd_21_2019-01-10.npy\n",
              "3776  2019-01-11  sat_21_2019-01-11.npy  grnd_21_2019-01-11.npy\n",
              "3777  2019-01-12  sat_21_2019-01-12.npy  grnd_21_2019-01-12.npy\n",
              "3778  2019-01-13  sat_21_2019-01-13.npy  grnd_21_2019-01-13.npy\n",
              "3779  2019-01-14  sat_21_2019-01-14.npy  grnd_21_2019-01-14.npy\n",
              "\n",
              "[3780 rows x 3 columns]"
            ]
          },
          "metadata": {},
          "execution_count": 26
        }
      ]
    },
    {
      "cell_type": "code",
      "metadata": {
        "id": "8rFKzxv7_IIu"
      },
      "source": [
        "!cp -r \"/content/temp/Data/Ground/.\" \"/content/Dataset/Ground/\"\n",
        "!cp -r \"/content/temp/Data/Satellite/.\" \"/content/Dataset/Satellite/\""
      ],
      "execution_count": null,
      "outputs": []
    },
    {
      "cell_type": "code",
      "metadata": {
        "id": "skhBWczK_iJA"
      },
      "source": [
        "files.to_csv(\"/content/Dataset/files.csv\",index=False)"
      ],
      "execution_count": null,
      "outputs": []
    },
    {
      "cell_type": "code",
      "metadata": {
        "colab": {
          "base_uri": "https://localhost:8080/"
        },
        "id": "ke8RoZKQ_odz",
        "outputId": "ee32ec81-c6b7-4d7d-8044-10ba216c0f68"
      },
      "source": [
        "!kaggle datasets init -p \"/content/Dataset\""
      ],
      "execution_count": null,
      "outputs": [
        {
          "output_type": "stream",
          "name": "stdout",
          "text": [
            "Data package template written to: /content/Dataset/dataset-metadata.json\n"
          ]
        }
      ]
    },
    {
      "cell_type": "code",
      "metadata": {
        "colab": {
          "base_uri": "https://localhost:8080/"
        },
        "id": "hNq_SzH1_ruo",
        "outputId": "289de444-44ef-4fe8-c700-2c87efc31f7b"
      },
      "source": [
        "!kaggle datasets version -p \"/content/Dataset/\" -m \"rectified duplicates\" --dir-mode tar"
      ],
      "execution_count": null,
      "outputs": [
        {
          "output_type": "stream",
          "name": "stdout",
          "text": [
            "Starting upload for file files.csv\n",
            "Warning: Looks like you're using an outdated API Version, please consider updating (server 1.5.12 / client 1.5.4)\n",
            "100% 205k/205k [00:01<00:00, 106kB/s]\n",
            "Upload successful: files.csv (205KB)\n",
            "Starting upload for file Ground.tar\n",
            "  0% 0.00/97.8M [00:00<?, ?B/s]2021-11-03 04:13:10,285 WARNING Retrying (Retry(total=9, connect=None, read=None, redirect=None, status=None)) after connection broken by 'ProtocolError('Connection aborted.', error(32, 'Broken pipe'))': /upload/storage/v1/b/kaggle-data-sets/o?uploadType=resumable&upload_id=ADPycduJOzEuM72WHoExaHmJW1YxH7JiWLhEtbKWrHMKdkRt1i8inOecX_eHWjG_-GW9h_YKxol5_VR5tddiMRwJAPM\n",
            "98.4MB [00:34, 3.00MB/s]                \n",
            "Upload successful: Ground.tar (98MB)\n",
            "Starting upload for file Satellite.tar\n",
            "  1% 568k/97.8M [00:30<1:27:44, 19.4kB/s]2021-11-03 04:13:47,610 WARNING Retrying (Retry(total=9, connect=None, read=None, redirect=None, status=None)) after connection broken by 'ProtocolError('Connection aborted.', error(32, 'Broken pipe'))': /upload/storage/v1/b/kaggle-data-sets/o?uploadType=resumable&upload_id=ADPycduqnDdy30WgBTu5yninUBvVNjn-zuuMVHJ_Mm285MtqL5q5naTC1boSdDOgwJh96yNeDkHHXKSC5YlY7miKli8\n",
            "  1% 1.16M/97.8M [00:50<1:08:54, 24.5kB/s]2021-11-03 04:14:19,636 WARNING Retrying (Retry(total=8, connect=None, read=None, redirect=None, status=None)) after connection broken by 'ProtocolError('Connection aborted.', error(32, 'Broken pipe'))': /upload/storage/v1/b/kaggle-data-sets/o?uploadType=resumable&upload_id=ADPycduqnDdy30WgBTu5yninUBvVNjn-zuuMVHJ_Mm285MtqL5q5naTC1boSdDOgwJh96yNeDkHHXKSC5YlY7miKli8\n",
            "  2% 1.77M/97.8M [01:20<1:15:39, 22.2kB/s]2021-11-03 04:14:52,670 WARNING Retrying (Retry(total=7, connect=None, read=None, redirect=None, status=None)) after connection broken by 'ProtocolError('Connection aborted.', error(32, 'Broken pipe'))': /upload/storage/v1/b/kaggle-data-sets/o?uploadType=resumable&upload_id=ADPycduqnDdy30WgBTu5yninUBvVNjn-zuuMVHJ_Mm285MtqL5q5naTC1boSdDOgwJh96yNeDkHHXKSC5YlY7miKli8\n",
            "99.6MB [01:39, 1.05MB/s]                \n",
            "Upload successful: Satellite.tar (98MB)\n",
            "Dataset version is being created. Please check progress at https://www.kaggle.com/bibhash123/grsldata\n"
          ]
        }
      ]
    },
    {
      "cell_type": "code",
      "metadata": {
        "id": "7u8AYLvF_5-6"
      },
      "source": [
        ""
      ],
      "execution_count": null,
      "outputs": []
    }
  ]
}